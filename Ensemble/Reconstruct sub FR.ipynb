{
 "cells": [
  {
   "cell_type": "code",
   "execution_count": 5,
   "metadata": {},
   "outputs": [],
   "source": [
    "import pandas as pd\n",
    "import numpy as np"
   ]
  },
  {
   "cell_type": "code",
   "execution_count": 6,
   "metadata": {},
   "outputs": [],
   "source": [
    "df_sub = pd.read_csv('Rule_based_Confirmation.csv')"
   ]
  },
  {
   "cell_type": "code",
   "execution_count": 7,
   "metadata": {},
   "outputs": [],
   "source": [
    "def recreate_sub(group):\n",
    "    group = group[group['score'] != 0]\n",
    "    if(group.shape[0] == 0):\n",
    "        return \"\"\n",
    "    else:\n",
    "        group = group.sort_values(by=['score'], ascending=False)\n",
    "        group.loc[:,'hotel_id'] = group['hotel_id'].apply(str)\n",
    "        return \" \".join(group['hotel_id'])"
   ]
  },
  {
   "cell_type": "code",
   "execution_count": 9,
   "metadata": {},
   "outputs": [
    {
     "data": {
      "text/html": [
       "<div>\n",
       "<style scoped>\n",
       "    .dataframe tbody tr th:only-of-type {\n",
       "        vertical-align: middle;\n",
       "    }\n",
       "\n",
       "    .dataframe tbody tr th {\n",
       "        vertical-align: top;\n",
       "    }\n",
       "\n",
       "    .dataframe thead th {\n",
       "        text-align: right;\n",
       "    }\n",
       "</style>\n",
       "<table border=\"1\" class=\"dataframe\">\n",
       "  <thead>\n",
       "    <tr style=\"text-align: right;\">\n",
       "      <th></th>\n",
       "      <th>session_id</th>\n",
       "      <th>item_rule</th>\n",
       "    </tr>\n",
       "  </thead>\n",
       "  <tbody>\n",
       "    <tr>\n",
       "      <th>0</th>\n",
       "      <td>0000059a39020</td>\n",
       "      <td></td>\n",
       "    </tr>\n",
       "    <tr>\n",
       "      <th>1</th>\n",
       "      <td>0000b9394297b</td>\n",
       "      <td></td>\n",
       "    </tr>\n",
       "    <tr>\n",
       "      <th>2</th>\n",
       "      <td>0001650138d30</td>\n",
       "      <td></td>\n",
       "    </tr>\n",
       "    <tr>\n",
       "      <th>3</th>\n",
       "      <td>000177b850519</td>\n",
       "      <td>17011 17266</td>\n",
       "    </tr>\n",
       "    <tr>\n",
       "      <th>4</th>\n",
       "      <td>00017b3b2c136</td>\n",
       "      <td>6698142 6298194</td>\n",
       "    </tr>\n",
       "  </tbody>\n",
       "</table>\n",
       "</div>"
      ],
      "text/plain": [
       "      session_id        item_rule\n",
       "0  0000059a39020                 \n",
       "1  0000b9394297b                 \n",
       "2  0001650138d30                 \n",
       "3  000177b850519      17011 17266\n",
       "4  00017b3b2c136  6698142 6298194"
      ]
     },
     "execution_count": 9,
     "metadata": {},
     "output_type": "execute_result"
    }
   ],
   "source": [
    "df_sub = df_sub.groupby('session_id').apply(lambda x: recreate_sub(x)).reset_index(name='item_rule')\n",
    "df_sub.head()"
   ]
  },
  {
   "cell_type": "code",
   "execution_count": 23,
   "metadata": {},
   "outputs": [],
   "source": [
    "def get_submission_target(df):\n",
    "    \"\"\"Identify target rows with missing click outs.\"\"\"\n",
    "\n",
    "    mask = df[\"reference\"].isnull() & (df[\"action_type\"] == \"clickout item\")\n",
    "    df_out = df[mask]\n",
    "\n",
    "    return df_out"
   ]
  },
  {
   "cell_type": "code",
   "execution_count": 24,
   "metadata": {},
   "outputs": [
    {
     "data": {
      "text/html": [
       "<div>\n",
       "<style scoped>\n",
       "    .dataframe tbody tr th:only-of-type {\n",
       "        vertical-align: middle;\n",
       "    }\n",
       "\n",
       "    .dataframe tbody tr th {\n",
       "        vertical-align: top;\n",
       "    }\n",
       "\n",
       "    .dataframe thead th {\n",
       "        text-align: right;\n",
       "    }\n",
       "</style>\n",
       "<table border=\"1\" class=\"dataframe\">\n",
       "  <thead>\n",
       "    <tr style=\"text-align: right;\">\n",
       "      <th></th>\n",
       "      <th>user_id</th>\n",
       "      <th>session_id</th>\n",
       "      <th>timestamp</th>\n",
       "      <th>step</th>\n",
       "      <th>action_type</th>\n",
       "      <th>reference</th>\n",
       "      <th>platform</th>\n",
       "      <th>city</th>\n",
       "      <th>device</th>\n",
       "      <th>current_filters</th>\n",
       "      <th>impressions</th>\n",
       "      <th>prices</th>\n",
       "      <th>item_rule</th>\n",
       "    </tr>\n",
       "  </thead>\n",
       "  <tbody>\n",
       "    <tr>\n",
       "      <th>0</th>\n",
       "      <td>004A07DM0IDW</td>\n",
       "      <td>1d688ec168932</td>\n",
       "      <td>1541555799</td>\n",
       "      <td>7</td>\n",
       "      <td>clickout item</td>\n",
       "      <td>NaN</td>\n",
       "      <td>CO</td>\n",
       "      <td>Santa Marta, Colombia</td>\n",
       "      <td>mobile</td>\n",
       "      <td>NaN</td>\n",
       "      <td>2059240|2033381|1724779|127131|399441|103357|1...</td>\n",
       "      <td>70|46|48|76|65|65|106|66|87|43|52|44|60|61|50|...</td>\n",
       "      <td>3241426 1050068</td>\n",
       "    </tr>\n",
       "    <tr>\n",
       "      <th>1</th>\n",
       "      <td>009RGHI3G9A3</td>\n",
       "      <td>f05ab0de907e2</td>\n",
       "      <td>1541570940</td>\n",
       "      <td>2</td>\n",
       "      <td>clickout item</td>\n",
       "      <td>NaN</td>\n",
       "      <td>IN</td>\n",
       "      <td>Nathdwara, India</td>\n",
       "      <td>mobile</td>\n",
       "      <td>NaN</td>\n",
       "      <td>10884872|7065316</td>\n",
       "      <td>64|28</td>\n",
       "      <td>7065316</td>\n",
       "    </tr>\n",
       "    <tr>\n",
       "      <th>2</th>\n",
       "      <td>00Y1Z24X8084</td>\n",
       "      <td>26b6d294d66e7</td>\n",
       "      <td>1541651823</td>\n",
       "      <td>2</td>\n",
       "      <td>clickout item</td>\n",
       "      <td>NaN</td>\n",
       "      <td>PH</td>\n",
       "      <td>Iloilo City, Philippines</td>\n",
       "      <td>mobile</td>\n",
       "      <td>NaN</td>\n",
       "      <td>2714480|4476010|3843244|3833012|9017890|198100...</td>\n",
       "      <td>74|14|22|38|55|44|28|34|23|27|12|108|19|21|36|...</td>\n",
       "      <td>3843244</td>\n",
       "    </tr>\n",
       "    <tr>\n",
       "      <th>3</th>\n",
       "      <td>01V3WDTDM5CU</td>\n",
       "      <td>07628a0f5be0b</td>\n",
       "      <td>1541575643</td>\n",
       "      <td>5</td>\n",
       "      <td>clickout item</td>\n",
       "      <td>NaN</td>\n",
       "      <td>PL</td>\n",
       "      <td>Wisla, Poland</td>\n",
       "      <td>mobile</td>\n",
       "      <td>Sort by Price</td>\n",
       "      <td>3565720|2947584|4115018|2039671|3836538|801409...</td>\n",
       "      <td>16|18|20|21|22|22|28|28|28|30|30|33|33|35|35|3...</td>\n",
       "      <td>2817590</td>\n",
       "    </tr>\n",
       "    <tr>\n",
       "      <th>4</th>\n",
       "      <td>02AOAVF9PVYH</td>\n",
       "      <td>4a01c3afbc224</td>\n",
       "      <td>1541681278</td>\n",
       "      <td>46</td>\n",
       "      <td>clickout item</td>\n",
       "      <td>NaN</td>\n",
       "      <td>JP</td>\n",
       "      <td>Yokohama, Japan</td>\n",
       "      <td>desktop</td>\n",
       "      <td>Hotel|Resort|Sort by Price</td>\n",
       "      <td>1451247|559056|1045096|1963879|693596|1967173|...</td>\n",
       "      <td>80|81|81|82|82|82|83|83|83|85|85|88|88|91|92|9...</td>\n",
       "      <td>1177554 7304020</td>\n",
       "    </tr>\n",
       "  </tbody>\n",
       "</table>\n",
       "</div>"
      ],
      "text/plain": [
       "        user_id     session_id   timestamp  step    action_type reference  \\\n",
       "0  004A07DM0IDW  1d688ec168932  1541555799     7  clickout item       NaN   \n",
       "1  009RGHI3G9A3  f05ab0de907e2  1541570940     2  clickout item       NaN   \n",
       "2  00Y1Z24X8084  26b6d294d66e7  1541651823     2  clickout item       NaN   \n",
       "3  01V3WDTDM5CU  07628a0f5be0b  1541575643     5  clickout item       NaN   \n",
       "4  02AOAVF9PVYH  4a01c3afbc224  1541681278    46  clickout item       NaN   \n",
       "\n",
       "  platform                      city   device             current_filters  \\\n",
       "0       CO     Santa Marta, Colombia   mobile                         NaN   \n",
       "1       IN          Nathdwara, India   mobile                         NaN   \n",
       "2       PH  Iloilo City, Philippines   mobile                         NaN   \n",
       "3       PL             Wisla, Poland   mobile               Sort by Price   \n",
       "4       JP           Yokohama, Japan  desktop  Hotel|Resort|Sort by Price   \n",
       "\n",
       "                                         impressions  \\\n",
       "0  2059240|2033381|1724779|127131|399441|103357|1...   \n",
       "1                                   10884872|7065316   \n",
       "2  2714480|4476010|3843244|3833012|9017890|198100...   \n",
       "3  3565720|2947584|4115018|2039671|3836538|801409...   \n",
       "4  1451247|559056|1045096|1963879|693596|1967173|...   \n",
       "\n",
       "                                              prices        item_rule  \n",
       "0  70|46|48|76|65|65|106|66|87|43|52|44|60|61|50|...  3241426 1050068  \n",
       "1                                              64|28          7065316  \n",
       "2  74|14|22|38|55|44|28|34|23|27|12|108|19|21|36|...          3843244  \n",
       "3  16|18|20|21|22|22|28|28|28|30|30|33|33|35|35|3...          2817590  \n",
       "4  80|81|81|82|82|82|83|83|83|85|85|88|88|91|92|9...  1177554 7304020  "
      ]
     },
     "execution_count": 24,
     "metadata": {},
     "output_type": "execute_result"
    }
   ],
   "source": [
    "df_test = pd.read_csv('test_off.csv')\n",
    "df_test = get_submission_target(df_test)\n",
    "df_test = (df_test.merge(df_sub, left_on=['session_id'], right_on=['session_id'], how=\"left\"))\n",
    "df_test.head()"
   ]
  },
  {
   "cell_type": "code",
   "execution_count": 25,
   "metadata": {},
   "outputs": [],
   "source": [
    "def complete_predictions(row):               \n",
    "    l_impressions = row.impressions.split('|')\n",
    "    if (row.item_rule == ''):\n",
    "        return \" \".join(l_impressions)\n",
    "    l_recs = row.item_rule.split(' ')\n",
    "    result = []\n",
    "    for i in l_recs:\n",
    "        result.append(str(i))\n",
    "    for i in l_impressions:\n",
    "        if(str(i) not in result):\n",
    "            result.append(str(i))\n",
    "    return \" \".join(result)"
   ]
  },
  {
   "cell_type": "code",
   "execution_count": 26,
   "metadata": {},
   "outputs": [],
   "source": [
    "df_test['item_recommendations'] = df_test.apply(lambda x : complete_predictions(x), axis=1)"
   ]
  },
  {
   "cell_type": "code",
   "execution_count": 27,
   "metadata": {},
   "outputs": [],
   "source": [
    "df_test = df_test[['user_id', 'session_id', 'timestamp', 'step', 'item_recommendations']]"
   ]
  },
  {
   "cell_type": "code",
   "execution_count": 29,
   "metadata": {},
   "outputs": [],
   "source": [
    "df_test.to_csv('rule_based_FR_reconstruct.csv')"
   ]
  },
  {
   "cell_type": "code",
   "execution_count": null,
   "metadata": {},
   "outputs": [],
   "source": []
  }
 ],
 "metadata": {
  "kernelspec": {
   "display_name": "Python 3",
   "language": "python",
   "name": "python3"
  },
  "language_info": {
   "codemirror_mode": {
    "name": "ipython",
    "version": 3
   },
   "file_extension": ".py",
   "mimetype": "text/x-python",
   "name": "python",
   "nbconvert_exporter": "python",
   "pygments_lexer": "ipython3",
   "version": "3.7.3"
  }
 },
 "nbformat": 4,
 "nbformat_minor": 2
}
