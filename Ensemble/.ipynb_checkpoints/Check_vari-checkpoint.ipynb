{
 "cells": [
  {
   "cell_type": "code",
   "execution_count": null,
   "metadata": {},
   "outputs": [],
   "source": [
    "import pandas as pd\n",
    "MERGE_COLS = [\"user_id\", \"session_id\", \"timestamp\", \"step\"]\n",
    "\n",
    "df_upp = pd.read_csv('upperbound.csv')\n",
    "df_score = pd.read_csv('score')\n",
    "df_merged = (\n",
    "    df_mf\n",
    "    .merge(df_rnn,suffixes=('_mf', '_rnn'),\n",
    "           left_on=MERGE_COLS,\n",
    "           right_on=MERGE_COLS,\n",
    "           how=\"left\")\n",
    "    )"
   ]
  }
 ],
 "metadata": {
  "kernelspec": {
   "display_name": "Python 3",
   "language": "python",
   "name": "python3"
  },
  "language_info": {
   "codemirror_mode": {
    "name": "ipython",
    "version": 3
   },
   "file_extension": ".py",
   "mimetype": "text/x-python",
   "name": "python",
   "nbconvert_exporter": "python",
   "pygments_lexer": "ipython3",
   "version": "3.7.3"
  }
 },
 "nbformat": 4,
 "nbformat_minor": 2
}
