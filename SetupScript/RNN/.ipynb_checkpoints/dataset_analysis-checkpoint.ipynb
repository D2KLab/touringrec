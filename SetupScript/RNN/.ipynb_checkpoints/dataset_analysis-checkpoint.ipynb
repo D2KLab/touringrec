{
 "cells": [
  {
   "cell_type": "code",
   "execution_count": 1,
   "metadata": {},
   "outputs": [],
   "source": [
    "import pandas as pd"
   ]
  },
  {
   "cell_type": "code",
   "execution_count": null,
   "metadata": {},
   "outputs": [],
   "source": [
    "df_train = pd.read_csv('./train_off.csv')"
   ]
  },
  {
   "cell_type": "code",
   "execution_count": null,
   "metadata": {},
   "outputs": [],
   "source": [
    "def remove_single_clickout_actions(df):\n",
    "  print('Initial size: ' + str(df.shape[0]))\n",
    "  n_action_session = df.groupby('session_id').size().reset_index(name='n_actions')\n",
    "  #print(n_action_session.head())\n",
    "  df = (df.merge(n_action_session, left_on='session_id', right_on='session_id', how=\"left\"))\n",
    "  #print(df.head())\n",
    "  # df['step_max'] = df.groupby(['session_id'])['step'].transform(max)\n",
    "  # print(df.head())\n",
    "  df = df.drop(df[(df[\"action_type\"] == \"clickout item\") & (df['n_actions'] == 1)].index)\n",
    "  print('Final size: ' + str(df.shape[0]))\n",
    "  del df['n_actions']\n",
    "  return df\n",
    "\n",
    "def remove_nonitem_actions(df):\n",
    "  df = df.drop(df[(df['action_type'] != 'interaction item image') & (df['action_type'] != 'interaction item deals') & (df['action_type'] != 'clickout item') & (df['action_type'] != 'search for item')].index)\n",
    "  return df\n",
    "\n",
    "def get_test_input(df_test):\n",
    "  #Creating a NaN column for item recommendations\n",
    "  df_test['item_recommendations'] = np.nan\n",
    "\n",
    "  test_step_clickout_dict = {}\n",
    "  test_impression_dict = {}\n",
    "  test_sessions_dict = {}\n",
    "\n",
    "  df_test['step_max'] = df_test[df_test['action_type'] == 'clickout item'].groupby(['session_id'])['step'].transform(max)\n",
    "  df_test['result'] = df_test[df_test['step'] == df_test['step_max']].apply(lambda x: get_clickout_data_test(x, test_step_clickout_dict, test_impression_dict), axis = 1)\n",
    "  df_test = df_test.drop(df_test.index[(df_test['step'] == df_test['step_max']) & (df_test[\"action_type\"] == \"clickout item\")])   \n",
    "  df_test_corpus = df_test.groupby('session_id').apply(lambda x: get_list_session_interactions(x, test_sessions_dict)).reset_index(name = 'hotel_list')      \n",
    "\n",
    "  test_corpus = list(test_sessions_dict.values())\n",
    "  #for hotel_session in df_test_corpus.hotel_list.values:\n",
    "  #  test_corpus.append(hotel_session.split(' '))\n",
    "\n",
    "  return test_sessions_dict, test_step_clickout_dict, test_impression_dict, test_corpus"
   ]
  },
  {
   "cell_type": "code",
   "execution_count": null,
   "metadata": {},
   "outputs": [],
   "source": [
    "df_train_inner = pd.read_csv(param.traininner) # ./train.csv\n",
    "df_train_inner = dsm.remove_single_clickout_actions(df_train_inner)\n",
    "#df_train_inner = dsm.remove_single_actions_opt(df_train_inner)\n",
    "df_train_inner =  dsm.remove_nonitem_actions(df_train_inner)\n",
    "#df_train_inner = dsm.reference_to_str(df_train_inner)"
   ]
  },
  {
   "cell_type": "code",
   "execution_count": null,
   "metadata": {},
   "outputs": [],
   "source": []
  }
 ],
 "metadata": {
  "kernelspec": {
   "display_name": "Python 3",
   "language": "python",
   "name": "python3"
  },
  "language_info": {
   "codemirror_mode": {
    "name": "ipython",
    "version": 3
   },
   "file_extension": ".py",
   "mimetype": "text/x-python",
   "name": "python",
   "nbconvert_exporter": "python",
   "pygments_lexer": "ipython3",
   "version": "3.6.8"
  }
 },
 "nbformat": 4,
 "nbformat_minor": 2
}
