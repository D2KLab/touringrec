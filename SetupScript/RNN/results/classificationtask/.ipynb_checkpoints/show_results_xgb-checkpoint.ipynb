{
 "cells": [
  {
   "cell_type": "code",
   "execution_count": 6,
   "metadata": {},
   "outputs": [],
   "source": [
    "import pandas as pd\n",
    "import matplotlib.pyplot as plt"
   ]
  },
  {
   "cell_type": "code",
   "execution_count": 4,
   "metadata": {},
   "outputs": [],
   "source": [
    "def plotn(n, perc):\n",
    "    df_loss = pd.read_csv('./results/#' + str(n) + '/rnn_' + str(perc) + '%_sub_loss.csv')\n",
    "    df_acc = pd.read_csv('./results/#' + str(n) + '/rnn_' + str(perc) + '%_sub_acc.csv')\n",
    "    plt.figure()\n",
    "    plt.plot(df_loss)\n",
    "    plt.figure()\n",
    "    plt.plot(df_acc)"
   ]
  },
  {
   "cell_type": "code",
   "execution_count": null,
   "metadata": {},
   "outputs": [],
   "source": []
  },
  {
   "cell_type": "code",
   "execution_count": null,
   "metadata": {},
   "outputs": [],
   "source": []
  }
 ],
 "metadata": {
  "kernelspec": {
   "display_name": "Python 3",
   "language": "python",
   "name": "python3"
  },
  "language_info": {
   "codemirror_mode": {
    "name": "ipython",
    "version": 3
   },
   "file_extension": ".py",
   "mimetype": "text/x-python",
   "name": "python",
   "nbconvert_exporter": "python",
   "pygments_lexer": "ipython3",
   "version": "3.7.2"
  }
 },
 "nbformat": 4,
 "nbformat_minor": 2
}
